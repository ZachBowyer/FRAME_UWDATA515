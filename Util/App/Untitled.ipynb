{
 "cells": [
  {
   "cell_type": "code",
   "execution_count": null,
   "id": "9030e564",
   "metadata": {},
   "outputs": [],
   "source": [
    "import unittest\n",
    "from app.py import zip_to_coordinates\n",
    "\n",
    "class TestZipToCoordinates(unittest.TestCase):\n",
    "    \n",
    "    def test_valid_zip(self):\n",
    "        # Test a valid zip code that should return coordinates\n",
    "        lat, long = zip_to_coordinates('98101')\n",
    "        self.assertAlmostEqual(lat, 47.611, delta=0.001)\n",
    "        self.assertAlmostEqual(long, -122.335, delta=0.001)\n",
    "\n",
    "    def test_invalid_zip(self):\n",
    "        # Test an invalid zip code that should return None\n",
    "        result = zip_to_coordinates('12345')\n",
    "        self.assertIsNone(result)\n"
   ]
  }
 ],
 "metadata": {
  "kernelspec": {
   "display_name": "Python 3 (ipykernel)",
   "language": "python",
   "name": "python3"
  }
 },
 "nbformat": 4,
 "nbformat_minor": 5
}
