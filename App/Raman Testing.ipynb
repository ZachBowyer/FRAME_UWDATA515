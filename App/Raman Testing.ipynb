{
 "cells": [
  {
   "cell_type": "code",
   "execution_count": 1,
   "metadata": {},
   "outputs": [
    {
     "name": "stderr",
     "output_type": "stream",
     "text": [
      "C:\\Users\\raman\\AppData\\Local\\Packages\\PythonSoftwareFoundation.Python.3.10_qbz5n2kfra8p0\\LocalCache\\local-packages\\Python310\\site-packages\\fuzzywuzzy\\fuzz.py:11: UserWarning: Using slow pure-python SequenceMatcher. Install python-Levenshtein to remove this warning\n",
      "  warnings.warn('Using slow pure-python SequenceMatcher. Install python-Levenshtein to remove this warning')\n",
      "2023-03-12 18:23:33.580 INFO    googlemaps.client: API queries_quota: 60\n"
     ]
    },
    {
     "data": {
      "text/plain": [
       "{'98122': 1.8667019034569339,\n",
       " '98112': 3.2485035505192963,\n",
       " '98109': 2.8110348977324002}"
      ]
     },
     "execution_count": 1,
     "metadata": {},
     "output_type": "execute_result"
    }
   ],
   "source": [
    "from app import *\n",
    "\n",
    "zip_to_coordinates(98105)\n",
    "zip_to_coordinates(98133)\n",
    "zip_to_coordinates(98158)\n",
    "\n",
    "\n",
    "zip_code_shortlist('98102', -2.2)\n",
    "\n",
    "{'98122': 1.8667019034569339, '98112': 3.2485035505192963, '98109': 2.8110348977324002}"
   ]
  }
 ],
 "metadata": {
  "kernelspec": {
   "display_name": "Python 3",
   "language": "python",
   "name": "python3"
  },
  "language_info": {
   "codemirror_mode": {
    "name": "ipython",
    "version": 3
   },
   "file_extension": ".py",
   "mimetype": "text/x-python",
   "name": "python",
   "nbconvert_exporter": "python",
   "pygments_lexer": "ipython3",
   "version": "3.10.10"
  },
  "orig_nbformat": 4
 },
 "nbformat": 4,
 "nbformat_minor": 2
}
