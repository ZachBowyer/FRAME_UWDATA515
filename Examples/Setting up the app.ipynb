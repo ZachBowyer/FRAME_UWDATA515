{
 "cells": [
  {
   "cell_type": "markdown",
   "id": "679cf297",
   "metadata": {},
   "source": [
    "## User Guide for setting up the app <br>\n",
    "#### To run the app perform following steps: <br>"
   ]
  },
  {
   "cell_type": "markdown",
   "id": "bb5f16e1",
   "metadata": {},
   "source": [
    "- git clone https://github.com/ZachBowyer/FRAME_UWDATA515.git <br>\n",
    "- cd FRAME_UWDATA515 <br>\n",
    "- install anaconda https://www.anaconda.com/ <br>\n",
    "- conda env create --name FRAME_WINDOWS --file=environment_windows.yml <br>\n",
    "- conda info --envs <br>\n",
    "- conda activate FRAME_WINDOWS python setup.py <br>\n",
    "- cd App <br>\n",
    "- streamlit run app.py <br>    "
   ]
  },
  {
   "cell_type": "markdown",
   "id": "35bef303",
   "metadata": {},
   "source": [
    "## Access the app using this link:\n",
    "- https://frameuw.streamlit.app/"
   ]
  }
 ],
 "metadata": {
  "kernelspec": {
   "display_name": "Python 3",
   "language": "python",
   "name": "python3"
  },
  "language_info": {
   "codemirror_mode": {
    "name": "ipython",
    "version": 3
   },
   "file_extension": ".py",
   "mimetype": "text/x-python",
   "name": "python",
   "nbconvert_exporter": "python",
   "pygments_lexer": "ipython3",
   "version": "3.8.8"
  }
 },
 "nbformat": 4,
 "nbformat_minor": 5
}
