{
 "cells": [
  {
   "cell_type": "markdown",
   "id": "679cf297",
   "metadata": {},
   "source": [
    "## User Guide for setting up the app <br>\n",
    "#### To run the app perform following steps: <br>"
   ]
  },
  {
   "cell_type": "markdown",
   "id": "bb5f16e1",
   "metadata": {},
   "source": [
    "##### WINDOWS\n",
    "- git clone https://github.com/ZachBowyer/FRAME_UWDATA515.git\n",
    "- cd FRAME_UWDATA515\n",
    "- install anaconda https://www.anaconda.com/\n",
    "- conda env create --name FRAME_WINDOWS --file=environment_windows.yml\n",
    "- conda info --envs\n",
    "- conda activate FRAME_WINDOWS\n",
    "- python setup.py\n",
    "- cd Util/DataPreprocessing\n",
    "- python data_preprocess.py\n",
    "- cd ../../App\n",
    "- streamlit run app.py\n",
    "\n",
    "##### UNIX\n",
    "- git clone https://github.com/ZachBowyer/FRAME_UWDATA515.git\n",
    "- cd FRAME_UWDATA515\n",
    "- install anaconda https://www.anaconda.com/\n",
    "- conda env create --name FRAME_LINUX --file=environment_linux.yml\n",
    "- conda activate FRAME_LINUX\n",
    "- python setup.py\n",
    "- cd Util/DataPreprocessing\n",
    "- python data_preprocess.py\n",
    "- cd ../../App\n",
    "- streamlit run app.py\n",
    "\n",
    "##### MAC\n",
    "- git clone https://github.com/ZachBowyer/FRAME_UWDATA515.git\n",
    "- cd FRAME_UWDATA515\n",
    "- pip install pandas numpy fuzzywuzzy folium googlemaps polyline uszipcode python-Levenshtein streamlit pgeocode gdown\n",
    "- python setup.py\n",
    "- cd Util/DataPreprocessing\n",
    "- python data_preprocess.py\n",
    "- cd ../../App\n",
    "- streamlit run app.py\n",
    "\n",
    "If conda doesn't work here are the pip installs:\n",
    "- pip install pandas\n",
    "- pip install numpy\n",
    "- pip install fuzzywuzzy\n",
    "- pip install folium\n",
    "- pip install googlemaps\n",
    "- pip install polyline\n",
    "- pip install uszipcode\n",
    "- pip install python-Levenshtein\n",
    "- pip install streamlit\n",
    "- pip install pgeocode\n",
    "- pip install gdown   "
   ]
  },
  {
   "cell_type": "markdown",
   "id": "35bef303",
   "metadata": {},
   "source": [
    "## Access the app using this link:\n",
    "- https://frameuw.streamlit.app/\n"
   ]
  }
 ],
 "metadata": {
  "kernelspec": {
   "display_name": "Python 3",
   "language": "python",
   "name": "python3"
  },
  "language_info": {
   "codemirror_mode": {
    "name": "ipython",
    "version": 3
   },
   "file_extension": ".py",
   "mimetype": "text/x-python",
   "name": "python",
   "nbconvert_exporter": "python",
   "pygments_lexer": "ipython3",
   "version": "3.8.8"
  }
 },
 "nbformat": 4,
 "nbformat_minor": 5
}
